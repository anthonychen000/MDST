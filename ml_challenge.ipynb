{
 "cells": [
  {
   "cell_type": "markdown",
   "metadata": {},
   "source": [
    "# ML Challenge (Optional)"
   ]
  },
  {
   "cell_type": "markdown",
   "metadata": {},
   "source": [
    "Train, test, optimize, and analyze the performance of a classification model using a methodology of your choice for the randomly generated moons dataset.\n",
    "\n",
    "You are not being evaluated for the performance of your model. Instead, we are interested in whether you can implement a simple but rigorous ML workflow.\n",
    "\n",
    "Show all of your work in this notebook."
   ]
  },
  {
   "cell_type": "code",
   "execution_count": 3,
   "metadata": {},
   "outputs": [
    {
     "name": "stdout",
     "output_type": "stream",
     "text": [
      "Requirement already satisfied: torch in /Users/anthonychen/Documents/2023-Tutorials-main/.venv/lib/python3.11/site-packages (2.1.2)\n",
      "Requirement already satisfied: filelock in /Users/anthonychen/Documents/2023-Tutorials-main/.venv/lib/python3.11/site-packages (from torch) (3.13.1)\n",
      "Requirement already satisfied: typing-extensions in /Users/anthonychen/Documents/2023-Tutorials-main/.venv/lib/python3.11/site-packages (from torch) (4.9.0)\n",
      "Requirement already satisfied: sympy in /Users/anthonychen/Documents/2023-Tutorials-main/.venv/lib/python3.11/site-packages (from torch) (1.12)\n",
      "Requirement already satisfied: networkx in /Users/anthonychen/Documents/2023-Tutorials-main/.venv/lib/python3.11/site-packages (from torch) (3.2.1)\n",
      "Requirement already satisfied: jinja2 in /Users/anthonychen/Documents/2023-Tutorials-main/.venv/lib/python3.11/site-packages (from torch) (3.1.3)\n",
      "Requirement already satisfied: fsspec in /Users/anthonychen/Documents/2023-Tutorials-main/.venv/lib/python3.11/site-packages (from torch) (2023.12.2)\n",
      "Requirement already satisfied: MarkupSafe>=2.0 in /Users/anthonychen/Documents/2023-Tutorials-main/.venv/lib/python3.11/site-packages (from jinja2->torch) (2.1.3)\n",
      "Requirement already satisfied: mpmath>=0.19 in /Users/anthonychen/Documents/2023-Tutorials-main/.venv/lib/python3.11/site-packages (from sympy->torch) (1.3.0)\n"
     ]
    }
   ],
   "source": [
    "%pip install torch\n",
    "\n",
    "import torch\n",
    "from torch import nn\n",
    "import matplotlib.pyplot as plt"
   ]
  },
  {
   "cell_type": "markdown",
   "metadata": {},
   "source": [
    "## Dataset"
   ]
  },
  {
   "cell_type": "code",
   "execution_count": 4,
   "metadata": {},
   "outputs": [],
   "source": [
    "# DO NOT MODIFY\n",
    "from sklearn.datasets import make_moons, train_test_split\n",
    "\n",
    "X, Y = make_moons(random_state=42, n_samples=(50, 450), noise=0.25)\n",
    "\n",
    "NUM_SAMPLES = 1000\n",
    "RANDOM_SEED = 42\n",
    "\n",
    "X, y = make_moons(n_samples=NUM_SAMPLES,\n",
    "                  noise=0.07,\n",
    "                  random_state=RANDOM_SEED)\n",
    "\n",
    "X_train, X_test, y_train, y_test = train_test_split(X, \n",
    "                                                    y, \n",
    "                                                    test_size=0.2, \n",
    "                                                    random_state=RANDOM_SEED)\n",
    "\n",
    "class Model(nn.Module):\n",
    "    def __init__(self, in_features, out_features, hidden_units):\n",
    "        super().__init__()\n",
    "        \n",
    "        self.layer1 = nn.Linear(in_features=in_features, \n",
    "                                 out_features=hidden_units)\n",
    "        self.layer2 = nn.Linear(in_features=hidden_units, \n",
    "                                 out_features=hidden_units)\n",
    "        self.layer3 = nn.Linear(in_features=hidden_units,\n",
    "                                out_features=hidden_units)\n",
    "        self.layer4 = nn.Linear(in_features=hidden_units,\n",
    "                                out_features=out_features)\n",
    "        self.relu = nn.ReLU()\n",
    "\n",
    "    def forward(self, x):\n",
    "        return self.layer4(self.relu(self.layer3(self.relu(self.layer2(self.relu(self.layer1(x)))))))\n",
    "    "
   ]
  },
  {
   "cell_type": "markdown",
   "metadata": {},
   "source": [
    "## Training"
   ]
  },
  {
   "cell_type": "code",
   "execution_count": 5,
   "metadata": {},
   "outputs": [],
   "source": [
    "kek_model = Model()\n",
    "\n",
    "loss_fn = nn.BCEWithLogitsLoss()\n",
    "optimizer = torch.optimizer.Adam(params = kek_model.parameters(), lr = 0.05)\n",
    "\n",
    "epochs = 1000\n",
    "\n",
    "def trainStep(model, loss_fn, optimizer):\n",
    "    model.train()\n",
    "    \n",
    "    y_pred = model(X_train).squeeze()\n",
    "    \n",
    "    loss = loss_fn(y_pred, y_train)\n",
    "    \n",
    "    optimizer.zero_grad()\n",
    "    \n",
    "    loss.backward()\n",
    "    \n",
    "    optimizer.step()"
   ]
  },
  {
   "cell_type": "markdown",
   "metadata": {},
   "source": [
    "## Testing / Optimization"
   ]
  },
  {
   "cell_type": "code",
   "execution_count": 8,
   "metadata": {},
   "outputs": [],
   "source": [
    "def testStep(model, loss_fn):\n",
    "    with torch.inference_mode():\n",
    "        model.eval()\n",
    "        \n",
    "        y_pred = model(X_train).squeeze()\n",
    "        \n",
    "        loss = loss_fn(y_pred, y_test)\n",
    "        ## print accuracy from imported function, print out test loss\n",
    "\n",
    "for epoch in range(epochs):\n",
    "    trainStep(kek_model, loss_fn, optimizer)\n",
    "    testStep(kek_model, loss_fn)\n",
    "\n",
    "        "
   ]
  },
  {
   "cell_type": "markdown",
   "metadata": {},
   "source": [
    "## Performance Analysis"
   ]
  },
  {
   "cell_type": "code",
   "execution_count": null,
   "metadata": {},
   "outputs": [],
   "source": [
    "# insert some graph showing the non-linear decision boundary from relu function! poggers"
   ]
  }
 ],
 "metadata": {
  "kernelspec": {
   "display_name": "Python 3.8.5 ('base')",
   "language": "python",
   "name": "python3"
  },
  "language_info": {
   "codemirror_mode": {
    "name": "ipython",
    "version": 3
   },
   "file_extension": ".py",
   "mimetype": "text/x-python",
   "name": "python",
   "nbconvert_exporter": "python",
   "pygments_lexer": "ipython3",
   "version": "3.11.6"
  },
  "orig_nbformat": 4,
  "vscode": {
   "interpreter": {
    "hash": "e78b6b4158d8f577a77be3bef6c4f5889b406541923fa59adc2e6c48950512fc"
   }
  }
 },
 "nbformat": 4,
 "nbformat_minor": 2
}
